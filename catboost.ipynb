{
 "cells": [
  {
   "cell_type": "code",
   "execution_count": 1,
   "id": "4ab5c4ec",
   "metadata": {},
   "outputs": [
    {
     "name": "stderr",
     "output_type": "stream",
     "text": [
      "c:\\Users\\zayda\\AppData\\Local\\Programs\\Python\\Python312\\Lib\\site-packages\\tqdm\\auto.py:21: TqdmWarning: IProgress not found. Please update jupyter and ipywidgets. See https://ipywidgets.readthedocs.io/en/stable/user_install.html\n",
      "  from .autonotebook import tqdm as notebook_tqdm\n"
     ]
    }
   ],
   "source": [
    "import pandas as pd\n",
    "from catboost import CatBoostClassifier\n",
    "from sklearn.model_selection import train_test_split, StratifiedKFold\n",
    "from sklearn.metrics import f1_score, accuracy_score, roc_auc_score\n",
    "import optuna"
   ]
  },
  {
   "cell_type": "code",
   "execution_count": null,
   "id": "c62b0879",
   "metadata": {},
   "outputs": [],
   "source": [
    "data = pd.read_csv('train_sample_final.csv')\n",
    "\n",
    "y_data = data['flag']\n",
    "X_data = data.drop(['flag'], axis=1)\n",
    "X_data = X_data.fillna(0)"
   ]
  },
  {
   "cell_type": "code",
   "execution_count": null,
   "id": "c938b6a5",
   "metadata": {},
   "outputs": [],
   "source": [
    "X, X_test, y, y_test = train_test_split(X_data, y_data, test_size=0.1, random_state=42)"
   ]
  },
  {
   "cell_type": "code",
   "execution_count": 7,
   "id": "ef0c534a",
   "metadata": {},
   "outputs": [],
   "source": [
    "n_splits = 5\n",
    "skf = StratifiedKFold(n_splits=n_splits, shuffle=True, random_state=42)"
   ]
  },
  {
   "cell_type": "code",
   "execution_count": null,
   "id": "041b776c",
   "metadata": {},
   "outputs": [
    {
     "name": "stderr",
     "output_type": "stream",
     "text": [
      "[I 2025-05-29 01:15:54,659] A new study created in memory with name: no-name-27f94823-c06e-4b0b-8d3a-43883bea9b1a\n",
      "[I 2025-05-29 01:16:11,324] Trial 0 finished with value: 0.6930043101822083 and parameters: {'iterations': 113, 'depth': 7, 'learning_rate': 0.12543383180747675, 'subsample': 0.7843747546781813, 'l2_leaf_reg': 0.0033441599746892015, 'random_strength': 1.6358464561866126, 'bagging_temperature': 0.2591995081201057, 'border_count': 60}. Best is trial 0 with value: 0.6930043101822083.\n",
      "[I 2025-05-29 01:24:11,753] Trial 1 finished with value: 0.6943158985012792 and parameters: {'iterations': 911, 'depth': 9, 'learning_rate': 0.1981960343112285, 'subsample': 0.8527034680478586, 'l2_leaf_reg': 1.1352190683103394, 'random_strength': 0.878085383692494, 'bagging_temperature': 0.5597684286479548, 'border_count': 146}. Best is trial 1 with value: 0.6943158985012792.\n",
      "[I 2025-05-29 01:44:06,845] Trial 2 finished with value: 0.7058610391012892 and parameters: {'iterations': 868, 'depth': 10, 'learning_rate': 0.07598221963771425, 'subsample': 0.6249389087696261, 'l2_leaf_reg': 1.7652256890609188, 'random_strength': 7.607115094165305, 'bagging_temperature': 0.0568440654418223, 'border_count': 135}. Best is trial 2 with value: 0.7058610391012892.\n",
      "[I 2025-05-29 01:44:47,928] Trial 3 finished with value: 0.6781684403309576 and parameters: {'iterations': 198, 'depth': 6, 'learning_rate': 0.016289705756514516, 'subsample': 0.9061086715018146, 'l2_leaf_reg': 1.3843787242483314, 'random_strength': 0.33853560891282997, 'bagging_temperature': 0.916803121546778, 'border_count': 142}. Best is trial 2 with value: 0.7058610391012892.\n",
      "[I 2025-05-29 01:47:25,995] Trial 4 finished with value: 0.692134984230748 and parameters: {'iterations': 579, 'depth': 7, 'learning_rate': 0.011232311836310975, 'subsample': 0.9075134339626294, 'l2_leaf_reg': 0.0014715995646230853, 'random_strength': 0.4445018663794742, 'bagging_temperature': 0.10270369001801127, 'border_count': 211}. Best is trial 2 with value: 0.7058610391012892.\n",
      "[I 2025-05-29 01:48:25,995] Trial 5 finished with value: 0.7030430693640023 and parameters: {'iterations': 458, 'depth': 4, 'learning_rate': 0.08841138455458648, 'subsample': 0.8739856437683318, 'l2_leaf_reg': 2.585739397035695, 'random_strength': 6.396287194861512, 'bagging_temperature': 0.9214892440739955, 'border_count': 252}. Best is trial 2 with value: 0.7058610391012892.\n",
      "[I 2025-05-29 01:52:41,097] Trial 6 finished with value: 0.6957226788340787 and parameters: {'iterations': 410, 'depth': 9, 'learning_rate': 0.06325386424317427, 'subsample': 0.779829511668645, 'l2_leaf_reg': 0.0011563881998549706, 'random_strength': 3.4701748649719955, 'bagging_temperature': 0.8895314220117666, 'border_count': 161}. Best is trial 2 with value: 0.7058610391012892.\n",
      "[I 2025-05-29 01:53:19,949] Trial 7 finished with value: 0.6848863740474554 and parameters: {'iterations': 200, 'depth': 6, 'learning_rate': 0.04483829551728579, 'subsample': 0.8592049653863486, 'l2_leaf_reg': 0.0011177587646487516, 'random_strength': 2.5372240428573756, 'bagging_temperature': 0.33205073422820786, 'border_count': 244}. Best is trial 2 with value: 0.7058610391012892.\n",
      "[I 2025-05-29 02:09:39,550] Trial 8 finished with value: 0.7031454633629038 and parameters: {'iterations': 676, 'depth': 10, 'learning_rate': 0.04546497569315445, 'subsample': 0.8375732102524946, 'l2_leaf_reg': 0.06713998484128093, 'random_strength': 7.408939159717356, 'bagging_temperature': 0.9576278280394812, 'border_count': 118}. Best is trial 2 with value: 0.7058610391012892.\n",
      "[I 2025-05-29 02:12:17,602] Trial 9 finished with value: 0.7082575347427562 and parameters: {'iterations': 911, 'depth': 6, 'learning_rate': 0.10474306300740367, 'subsample': 0.6291443946480425, 'l2_leaf_reg': 6.742437841428008, 'random_strength': 3.9653030594750414, 'bagging_temperature': 0.2925104672028207, 'border_count': 122}. Best is trial 9 with value: 0.7082575347427562.\n",
      "[I 2025-05-29 02:14:05,885] Trial 10 finished with value: 0.6966284494536563 and parameters: {'iterations': 1000, 'depth': 4, 'learning_rate': 0.27855256989269567, 'subsample': 0.6255525067227193, 'l2_leaf_reg': 0.15530455995792275, 'random_strength': 9.5353344949545, 'bagging_temperature': 0.6022818320938436, 'border_count': 47}. Best is trial 9 with value: 0.7082575347427562.\n",
      "[I 2025-05-29 02:18:11,236] Trial 11 finished with value: 0.7055878052478458 and parameters: {'iterations': 785, 'depth': 8, 'learning_rate': 0.1300684243529302, 'subsample': 0.6248085374535206, 'l2_leaf_reg': 8.967433761886236, 'random_strength': 4.8191568939182, 'bagging_temperature': 0.013252859912677425, 'border_count': 95}. Best is trial 9 with value: 0.7082575347427562.\n",
      "[I 2025-05-29 02:20:28,701] Trial 12 finished with value: 0.6968866631959182 and parameters: {'iterations': 801, 'depth': 5, 'learning_rate': 0.025977723178746234, 'subsample': 0.6864592660665769, 'l2_leaf_reg': 9.841356377754332, 'random_strength': 8.391461020563172, 'bagging_temperature': 0.2218286358325517, 'border_count': 175}. Best is trial 9 with value: 0.7082575347427562.\n",
      "[I 2025-05-29 02:43:07,575] Trial 13 finished with value: 0.7034009702276801 and parameters: {'iterations': 873, 'depth': 10, 'learning_rate': 0.08036818225757172, 'subsample': 0.6890957441786304, 'l2_leaf_reg': 0.356137211578005, 'random_strength': 5.06939833518823, 'bagging_temperature': 0.4059409258175657, 'border_count': 92}. Best is trial 9 with value: 0.7082575347427562.\n",
      "[I 2025-05-29 02:45:43,459] Trial 14 finished with value: 0.700790853611094 and parameters: {'iterations': 682, 'depth': 6, 'learning_rate': 0.16056471652997495, 'subsample': 0.6807010250528654, 'l2_leaf_reg': 0.023328832073281503, 'random_strength': 5.816409900807523, 'bagging_temperature': 0.11476585477321877, 'border_count': 192}. Best is trial 9 with value: 0.7082575347427562.\n",
      "[I 2025-05-29 02:52:01,921] Trial 15 finished with value: 0.7060614456188252 and parameters: {'iterations': 993, 'depth': 8, 'learning_rate': 0.028034616201338926, 'subsample': 0.6051861134636524, 'l2_leaf_reg': 3.3461773863332263, 'random_strength': 3.7014407423830376, 'bagging_temperature': 0.7230736869748939, 'border_count': 117}. Best is trial 9 with value: 0.7082575347427562.\n",
      "[I 2025-05-29 02:58:12,695] Trial 16 finished with value: 0.7060883939039969 and parameters: {'iterations': 993, 'depth': 8, 'learning_rate': 0.027994226586459323, 'subsample': 0.9718244218925925, 'l2_leaf_reg': 0.4329846065783867, 'random_strength': 3.602354124745591, 'bagging_temperature': 0.7417035615748258, 'border_count': 87}. Best is trial 9 with value: 0.7082575347427562.\n",
      "[I 2025-05-29 03:02:28,997] Trial 17 finished with value: 0.7034186344483955 and parameters: {'iterations': 738, 'depth': 8, 'learning_rate': 0.026560701390979918, 'subsample': 0.9481291832040217, 'l2_leaf_reg': 0.4658805078410868, 'random_strength': 3.5136915592503803, 'bagging_temperature': 0.7550555105886497, 'border_count': 68}. Best is trial 9 with value: 0.7082575347427562.\n",
      "[I 2025-05-29 03:05:05,063] Trial 18 finished with value: 0.6904122757751762 and parameters: {'iterations': 574, 'depth': 7, 'learning_rate': 0.018176812295478052, 'subsample': 0.9923117683128752, 'l2_leaf_reg': 0.03124723652344597, 'random_strength': 2.3942572780691544, 'bagging_temperature': 0.4374777668451645, 'border_count': 85}. Best is trial 9 with value: 0.7082575347427562.\n",
      "[I 2025-05-29 03:07:44,751] Trial 19 finished with value: 0.7052207768899921 and parameters: {'iterations': 927, 'depth': 6, 'learning_rate': 0.03502869983388641, 'subsample': 0.7415953846457626, 'l2_leaf_reg': 0.41610561393078005, 'random_strength': 4.655450517525944, 'bagging_temperature': 0.6884246579587046, 'border_count': 37}. Best is trial 9 with value: 0.7082575347427562.\n",
      "[I 2025-05-29 03:08:49,431] Trial 20 finished with value: 0.6698162838907358 and parameters: {'iterations': 369, 'depth': 5, 'learning_rate': 0.010112397425327331, 'subsample': 0.7285008703545138, 'l2_leaf_reg': 0.011160772300650271, 'random_strength': 2.53110842492777, 'bagging_temperature': 0.5368379401204363, 'border_count': 115}. Best is trial 9 with value: 0.7082575347427562.\n",
      "[I 2025-05-29 03:15:02,566] Trial 21 finished with value: 0.7051953389917964 and parameters: {'iterations': 995, 'depth': 8, 'learning_rate': 0.025799343280325248, 'subsample': 0.6123037003927484, 'l2_leaf_reg': 3.9012800588855754, 'random_strength': 3.63538557158369, 'bagging_temperature': 0.7841560615246032, 'border_count': 112}. Best is trial 9 with value: 0.7082575347427562.\n",
      "[I 2025-05-29 03:23:41,962] Trial 22 finished with value: 0.7083592943489372 and parameters: {'iterations': 995, 'depth': 9, 'learning_rate': 0.033926294686026925, 'subsample': 0.6566718248556455, 'l2_leaf_reg': 4.585041051519438, 'random_strength': 4.311182225633521, 'bagging_temperature': 0.7729724304528158, 'border_count': 78}. Best is trial 22 with value: 0.7083592943489372.\n",
      "[I 2025-05-29 03:30:55,993] Trial 23 finished with value: 0.708076566608906 and parameters: {'iterations': 839, 'depth': 9, 'learning_rate': 0.04944621229724269, 'subsample': 0.6561645206212999, 'l2_leaf_reg': 0.7960372000340015, 'random_strength': 6.121061424391945, 'bagging_temperature': 0.6395967340254423, 'border_count': 73}. Best is trial 22 with value: 0.7083592943489372.\n",
      "[I 2025-05-29 03:37:56,687] Trial 24 finished with value: 0.7091626423381117 and parameters: {'iterations': 853, 'depth': 9, 'learning_rate': 0.050811302180843454, 'subsample': 0.6560663584380442, 'l2_leaf_reg': 5.355982210565338, 'random_strength': 6.292607442465401, 'bagging_temperature': 0.655168138888965, 'border_count': 67}. Best is trial 24 with value: 0.7091626423381117.\n",
      "[I 2025-05-29 03:43:25,397] Trial 25 finished with value: 0.705575807494228 and parameters: {'iterations': 723, 'depth': 9, 'learning_rate': 0.10623131724179588, 'subsample': 0.6510491722469208, 'l2_leaf_reg': 5.31453567302486, 'random_strength': 6.742610258141146, 'bagging_temperature': 0.4774451095035942, 'border_count': 54}. Best is trial 24 with value: 0.7091626423381117.\n",
      "[I 2025-05-29 03:45:47,657] Trial 26 finished with value: 0.7064212278490083 and parameters: {'iterations': 925, 'depth': 5, 'learning_rate': 0.059396045648320725, 'subsample': 0.7230998619038224, 'l2_leaf_reg': 5.966817342301537, 'random_strength': 5.482252648879528, 'bagging_temperature': 0.8450732136528432, 'border_count': 36}. Best is trial 24 with value: 0.7091626423381117.\n",
      "[I 2025-05-29 03:48:23,157] Trial 27 finished with value: 0.7033682470873508 and parameters: {'iterations': 637, 'depth': 7, 'learning_rate': 0.04128338227879063, 'subsample': 0.6545250172899787, 'l2_leaf_reg': 0.1854632187653881, 'random_strength': 4.44255482090989, 'bagging_temperature': 0.3158332203422017, 'border_count': 76}. Best is trial 24 with value: 0.7091626423381117.\n",
      "[I 2025-05-29 03:56:15,773] Trial 28 finished with value: 0.7074110943155929 and parameters: {'iterations': 783, 'depth': 9, 'learning_rate': 0.06426918060829906, 'subsample': 0.668705143186334, 'l2_leaf_reg': 2.4506349479231733, 'random_strength': 7.254254056893294, 'bagging_temperature': 0.649406143017955, 'border_count': 107}. Best is trial 24 with value: 0.7091626423381117.\n",
      "[I 2025-05-29 04:16:17,681] Trial 29 finished with value: 0.7034976095240131 and parameters: {'iterations': 920, 'depth': 10, 'learning_rate': 0.11620826835896401, 'subsample': 0.8089639742198321, 'l2_leaf_reg': 0.9118761608399388, 'random_strength': 1.690568331262579, 'bagging_temperature': 0.23387009742149253, 'border_count': 61}. Best is trial 24 with value: 0.7091626423381117.\n",
      "[I 2025-05-29 04:20:17,299] Trial 30 finished with value: 0.7050565583404056 and parameters: {'iterations': 839, 'depth': 7, 'learning_rate': 0.03498776078910057, 'subsample': 0.7120651720794102, 'l2_leaf_reg': 5.669210286106674, 'random_strength': 8.294699180221135, 'bagging_temperature': 0.3770174702180485, 'border_count': 137}. Best is trial 24 with value: 0.7091626423381117.\n",
      "[I 2025-05-29 04:27:21,158] Trial 31 finished with value: 0.7087055680717552 and parameters: {'iterations': 835, 'depth': 9, 'learning_rate': 0.0505361595493305, 'subsample': 0.6468053123424837, 'l2_leaf_reg': 0.8285683485881263, 'random_strength': 5.939015492989046, 'bagging_temperature': 0.629581427878156, 'border_count': 72}. Best is trial 24 with value: 0.7091626423381117.\n",
      "[I 2025-05-29 04:36:33,285] Trial 32 finished with value: 0.7081503378051766 and parameters: {'iterations': 936, 'depth': 9, 'learning_rate': 0.034748553565896664, 'subsample': 0.6386349219656137, 'l2_leaf_reg': 1.9106485306093095, 'random_strength': 5.469533132744905, 'bagging_temperature': 0.8064340483240716, 'border_count': 101}. Best is trial 24 with value: 0.7091626423381117.\n"
     ]
    }
   ],
   "source": [
    "def objective(trial):\n",
    "    params = {\n",
    "        \"iterations\": trial.suggest_int(\"iterations\", 100, 1000),\n",
    "        \"depth\": trial.suggest_int(\"depth\", 4, 10),\n",
    "        \"learning_rate\": trial.suggest_float(\"learning_rate\", 0.01, 0.3, log=True),\n",
    "        \"subsample\": trial.suggest_float(\"subsample\", 0.6, 1.0, log=True),\n",
    "        \"l2_leaf_reg\": trial.suggest_float(\"l2_leaf_reg\", 1e-3, 10, log=True),\n",
    "        \"random_strength\": trial.suggest_float(\"random_strength\", 0.0, 10.0),\n",
    "        \"bagging_temperature\": trial.suggest_float(\"bagging_temperature\", 0.0, 1.0),\n",
    "        \"border_count\": trial.suggest_int(\"border_count\", 32, 255),\n",
    "        \"verbose\": 0,\n",
    "    }\n",
    "    all_f1 = []\n",
    "    for i, (train_ind, val_ind) in enumerate(skf.split(X.values, y)):\n",
    "        X_train, X_val = X.iloc[train_ind, :], X.iloc[val_ind, :]\n",
    "        y_train, y_val = y.iloc[train_ind], y.iloc[val_ind]\n",
    "        model = CatBoostClassifier(**params)\n",
    "        model.fit(X_train, y_train)\n",
    "        y_pred = model.predict(X_val)\n",
    "        f1 = f1_score(y_pred, y_val)\n",
    "        all_f1.append(f1) \n",
    "    \n",
    "    return sum(all_f1) / len(all_f1)\n",
    "\n",
    "# Запускаем оптимизацию\n",
    "study = optuna.create_study(direction=\"maximize\")\n",
    "study.optimize(objective, n_trials=50)"
   ]
  },
  {
   "cell_type": "code",
   "execution_count": 4,
   "id": "cf1e135b",
   "metadata": {},
   "outputs": [],
   "source": [
    "params = {'iterations': 916,\n",
    " 'depth': 9,\n",
    " 'learning_rate': 0.08417417879301282,\n",
    " 'subsample': 0.6300537145115088,\n",
    " 'l2_leaf_reg': 4.917199591062558,\n",
    " 'random_strength': 5.3579819031797005,\n",
    " 'bagging_temperature': 0.03127270504975477,\n",
    " 'border_count': 237}"
   ]
  },
  {
   "cell_type": "markdown",
   "id": "65906999",
   "metadata": {},
   "source": [
    "Оценка качества на валидационной выборке:"
   ]
  },
  {
   "cell_type": "code",
   "execution_count": 11,
   "id": "026eabd0",
   "metadata": {},
   "outputs": [
    {
     "name": "stdout",
     "output_type": "stream",
     "text": [
      "Accuracy: 0.7081400826349495\n",
      "F1 score: 0.7067734217155921\n",
      "Roc auc: 0.7823032131966091\n"
     ]
    }
   ],
   "source": [
    "all_f1 = []\n",
    "all_roc_auc = []\n",
    "all_accuracy = []\n",
    "for i, (train_ind, val_ind) in enumerate(skf.split(X.values, y)):\n",
    "    X_train, X_val = X.iloc[train_ind, :], X.iloc[val_ind, :]\n",
    "    y_train, y_val = y.iloc[train_ind], y.iloc[val_ind]\n",
    "    model = CatBoostClassifier(**params, verbose=False)\n",
    "    model.fit(X_train, y_train)\n",
    "    y_pred = model.predict_proba(X_val)[:, 1]\n",
    "    f1 = f1_score(y_pred.round(), y_val)\n",
    "    roc_auc = roc_auc_score(y_val, y_pred)\n",
    "    accuracy = accuracy_score(y_pred.round(), y_val)\n",
    "    all_f1.append(f1)\n",
    "    all_roc_auc.append(roc_auc)\n",
    "    all_accuracy.append(accuracy)\n",
    "\n",
    "print(f'Accuracy: {sum(all_accuracy) / len(all_accuracy)}')\n",
    "print(f'F1 score: {sum(all_f1) / len(all_f1)}')\n",
    "print(f'Roc auc: {sum(all_roc_auc) / len(all_roc_auc)}')"
   ]
  },
  {
   "cell_type": "markdown",
   "id": "6d9f4354",
   "metadata": {},
   "source": [
    "Оценка качества на тестовой:"
   ]
  },
  {
   "cell_type": "code",
   "execution_count": 5,
   "id": "bb2c2c58",
   "metadata": {},
   "outputs": [
    {
     "name": "stdout",
     "output_type": "stream",
     "text": [
      "Accuracy: 0.7262979683972912\n",
      "F1 score: 0.7262464722483537\n",
      "Roc auc: 0.8006491811336547\n"
     ]
    }
   ],
   "source": [
    "cat_clf = CatBoostClassifier(**params, random_state=42, verbose=0)\n",
    "cat_clf.fit(X, y)\n",
    "cat_preds = cat_clf.predict_proba(X_test)[:, 1]\n",
    "print(f'Accuracy: {accuracy_score(cat_preds.round(), y_test)}')\n",
    "print(f'F1 score: {f1_score(cat_preds.round(), y_test)}')\n",
    "print(f'Roc auc: {roc_auc_score(y_test, cat_preds)}')"
   ]
  },
  {
   "cell_type": "code",
   "execution_count": null,
   "id": "ed393c0e",
   "metadata": {},
   "outputs": [],
   "source": []
  }
 ],
 "metadata": {
  "kernelspec": {
   "display_name": "Python 3",
   "language": "python",
   "name": "python3"
  },
  "language_info": {
   "codemirror_mode": {
    "name": "ipython",
    "version": 3
   },
   "file_extension": ".py",
   "mimetype": "text/x-python",
   "name": "python",
   "nbconvert_exporter": "python",
   "pygments_lexer": "ipython3",
   "version": "3.12.10"
  }
 },
 "nbformat": 4,
 "nbformat_minor": 5
}
