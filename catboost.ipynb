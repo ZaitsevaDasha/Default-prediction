{
 "cells": [
  {
   "cell_type": "code",
   "execution_count": 4,
   "id": "4ab5c4ec",
   "metadata": {},
   "outputs": [],
   "source": [
    "import pandas as pd\n",
    "from catboost import CatBoostClassifier\n",
    "from sklearn.model_selection import train_test_split, StratifiedKFold\n",
    "from sklearn.metrics import f1_score, accuracy_score, roc_auc_score\n",
    "import optuna\n",
    "import numpy as np"
   ]
  },
  {
   "cell_type": "code",
   "execution_count": 10,
   "id": "c62b0879",
   "metadata": {},
   "outputs": [],
   "source": [
    "data = pd.read_csv('data/train_sample_cat.csv')\n",
    "\n",
    "y_data = data['flag']\n",
    "X_data = data.drop('flag', axis=1)"
   ]
  },
  {
   "cell_type": "code",
   "execution_count": 6,
   "id": "490bdab9",
   "metadata": {},
   "outputs": [],
   "source": [
    "X_data.replace(np.inf, 0, inplace=True)"
   ]
  },
  {
   "cell_type": "code",
   "execution_count": 11,
   "id": "c938b6a5",
   "metadata": {},
   "outputs": [],
   "source": [
    "X, X_test, y, y_test = train_test_split(X_data, y_data, test_size=0.1, random_state=42)\n",
    "X_train, X_val, y_train, y_val = train_test_split(X, y, test_size=0.1)"
   ]
  },
  {
   "cell_type": "code",
   "execution_count": 69,
   "id": "041b776c",
   "metadata": {},
   "outputs": [
    {
     "name": "stderr",
     "output_type": "stream",
     "text": [
      "[I 2025-05-16 13:30:56,069] A new study created in memory with name: no-name-6bfe508a-84b2-43e2-bf24-f8a03f0eb318\n",
      "[I 2025-05-16 13:31:08,315] Trial 0 finished with value: 0.6603482477407979 and parameters: {'iterations': 146, 'depth': 6, 'learning_rate': 0.02524110630916377, 'subsample': 0.6845452627352011, 'l2_leaf_reg': 0.2346421085337576, 'random_strength': 2.805363432343142, 'bagging_temperature': 0.019997649608886836, 'border_count': 112}. Best is trial 0 with value: 0.6603482477407979.\n",
      "[I 2025-05-16 13:31:30,660] Trial 1 finished with value: 0.6972043010752688 and parameters: {'iterations': 320, 'depth': 6, 'learning_rate': 0.27494203663430433, 'subsample': 0.7306588490746503, 'l2_leaf_reg': 0.8487989443552472, 'random_strength': 6.526886259716379, 'bagging_temperature': 0.9382432232649237, 'border_count': 56}. Best is trial 1 with value: 0.6972043010752688.\n",
      "[I 2025-05-16 13:32:10,388] Trial 2 finished with value: 0.6845901639344262 and parameters: {'iterations': 669, 'depth': 4, 'learning_rate': 0.02051287255228464, 'subsample': 0.7213364263048657, 'l2_leaf_reg': 0.06448203319138036, 'random_strength': 1.8796858342137301, 'bagging_temperature': 0.7276540255894546, 'border_count': 62}. Best is trial 1 with value: 0.6972043010752688.\n",
      "[I 2025-05-16 13:39:02,150] Trial 3 finished with value: 0.7011986301369864 and parameters: {'iterations': 666, 'depth': 10, 'learning_rate': 0.09356281558997605, 'subsample': 0.769064239895712, 'l2_leaf_reg': 1.3203854158933641, 'random_strength': 5.92379422683339, 'bagging_temperature': 0.9438891456345315, 'border_count': 98}. Best is trial 3 with value: 0.7011986301369864.\n",
      "[I 2025-05-16 13:39:35,636] Trial 4 finished with value: 0.6651933701657459 and parameters: {'iterations': 426, 'depth': 5, 'learning_rate': 0.010529349356275749, 'subsample': 0.8827304477339468, 'l2_leaf_reg': 0.10557776663501088, 'random_strength': 4.355908646417732, 'bagging_temperature': 0.4991265858353201, 'border_count': 143}. Best is trial 3 with value: 0.7011986301369864.\n",
      "[I 2025-05-16 13:41:44,572] Trial 5 finished with value: 0.65625 and parameters: {'iterations': 218, 'depth': 10, 'learning_rate': 0.01734754171647719, 'subsample': 0.9323577421895346, 'l2_leaf_reg': 0.0011732127859273903, 'random_strength': 9.992104169730355, 'bagging_temperature': 0.730954372941343, 'border_count': 76}. Best is trial 3 with value: 0.7011986301369864.\n",
      "[I 2025-05-16 13:43:17,605] Trial 6 finished with value: 0.6903114186851211 and parameters: {'iterations': 562, 'depth': 8, 'learning_rate': 0.037648584096417095, 'subsample': 0.8376159535632708, 'l2_leaf_reg': 0.03497171027910338, 'random_strength': 2.4349011605031814, 'bagging_temperature': 0.2286302340745655, 'border_count': 204}. Best is trial 3 with value: 0.7011986301369864.\n",
      "[I 2025-05-16 13:43:49,033] Trial 7 finished with value: 0.6601769911504425 and parameters: {'iterations': 133, 'depth': 9, 'learning_rate': 0.010250002346638105, 'subsample': 0.8645571028486598, 'l2_leaf_reg': 0.035195007871881505, 'random_strength': 2.417109163965059, 'bagging_temperature': 0.7129906971005862, 'border_count': 159}. Best is trial 3 with value: 0.7011986301369864.\n",
      "[I 2025-05-16 13:46:03,433] Trial 8 finished with value: 0.6670918367346939 and parameters: {'iterations': 309, 'depth': 10, 'learning_rate': 0.25990707251760314, 'subsample': 0.6685730285244963, 'l2_leaf_reg': 0.0022035373113519887, 'random_strength': 7.103886202226476, 'bagging_temperature': 0.7282270724017406, 'border_count': 35}. Best is trial 3 with value: 0.7011986301369864.\n",
      "[I 2025-05-16 13:53:19,362] Trial 9 finished with value: 0.6781535843437566 and parameters: {'iterations': 602, 'depth': 10, 'learning_rate': 0.08311640500029034, 'subsample': 0.8380478783355708, 'l2_leaf_reg': 0.009383939538600568, 'random_strength': 2.6447796208413052, 'bagging_temperature': 0.7628576687527682, 'border_count': 184}. Best is trial 3 with value: 0.7011986301369864.\n",
      "[I 2025-05-16 13:54:51,060] Trial 10 finished with value: 0.7057313943541489 and parameters: {'iterations': 859, 'depth': 8, 'learning_rate': 0.10505006067198057, 'subsample': 0.6257542921231719, 'l2_leaf_reg': 6.387530225197628, 'random_strength': 8.670983749730166, 'bagging_temperature': 0.9924979512663652, 'border_count': 116}. Best is trial 10 with value: 0.7057313943541489.\n",
      "[I 2025-05-16 13:56:49,858] Trial 11 finished with value: 0.7044673539518901 and parameters: {'iterations': 922, 'depth': 8, 'learning_rate': 0.09662765065158901, 'subsample': 0.601573815365867, 'l2_leaf_reg': 9.120852822372303, 'random_strength': 9.157104116735677, 'bagging_temperature': 0.9981629886844332, 'border_count': 247}. Best is trial 10 with value: 0.7057313943541489.\n",
      "[I 2025-05-16 13:58:51,715] Trial 12 finished with value: 0.7017014861081198 and parameters: {'iterations': 957, 'depth': 8, 'learning_rate': 0.1282542036471, 'subsample': 0.6090830476516121, 'l2_leaf_reg': 8.224045399866275, 'random_strength': 9.603298306337056, 'bagging_temperature': 0.9621287192148034, 'border_count': 232}. Best is trial 10 with value: 0.7057313943541489.\n",
      "[I 2025-05-16 14:00:40,205] Trial 13 finished with value: 0.6943607404218682 and parameters: {'iterations': 990, 'depth': 8, 'learning_rate': 0.1434992945348007, 'subsample': 0.6032887360429153, 'l2_leaf_reg': 7.333963416278876, 'random_strength': 8.409083771026896, 'bagging_temperature': 0.50829085619048, 'border_count': 131}. Best is trial 10 with value: 0.7057313943541489.\n",
      "[I 2025-05-16 14:02:07,393] Trial 14 finished with value: 0.70174681906405 and parameters: {'iterations': 817, 'depth': 7, 'learning_rate': 0.05277289296119996, 'subsample': 0.6454859544960726, 'l2_leaf_reg': 1.6337339897592709, 'random_strength': 0.0763428312240011, 'bagging_temperature': 0.5049066759625975, 'border_count': 255}. Best is trial 10 with value: 0.7057313943541489.\n",
      "[I 2025-05-16 14:03:39,387] Trial 15 finished with value: 0.6987590928540864 and parameters: {'iterations': 838, 'depth': 7, 'learning_rate': 0.15958493717888972, 'subsample': 0.6342152861109533, 'l2_leaf_reg': 3.2280037246364714, 'random_strength': 8.274098946460072, 'bagging_temperature': 0.8574817267365197, 'border_count': 176}. Best is trial 10 with value: 0.7057313943541489.\n",
      "[I 2025-05-16 14:07:22,239] Trial 16 finished with value: 0.702516670251667 and parameters: {'iterations': 843, 'depth': 9, 'learning_rate': 0.06337003359243776, 'subsample': 0.7009441012898854, 'l2_leaf_reg': 0.40779929542576987, 'random_strength': 7.9854459788949, 'bagging_temperature': 0.3299015762676411, 'border_count': 213}. Best is trial 10 with value: 0.7057313943541489.\n",
      "[I 2025-05-16 14:09:55,420] Trial 17 finished with value: 0.7016251354279524 and parameters: {'iterations': 751, 'depth': 9, 'learning_rate': 0.042857357274180406, 'subsample': 0.6434803684229694, 'l2_leaf_reg': 3.6330533160751273, 'random_strength': 5.109804086229683, 'bagging_temperature': 0.8590015421000077, 'border_count': 109}. Best is trial 10 with value: 0.7057313943541489.\n",
      "[I 2025-05-16 14:11:22,619] Trial 18 finished with value: 0.7038312526904864 and parameters: {'iterations': 926, 'depth': 6, 'learning_rate': 0.09604619257820472, 'subsample': 0.9877431638882933, 'l2_leaf_reg': 9.670232817496089, 'random_strength': 9.100987810738664, 'bagging_temperature': 0.5847995858135566, 'border_count': 254}. Best is trial 10 with value: 0.7057313943541489.\n",
      "[I 2025-05-16 14:13:20,224] Trial 19 finished with value: 0.6889890534449453 and parameters: {'iterations': 741, 'depth': 8, 'learning_rate': 0.18662705054677656, 'subsample': 0.7710894139688347, 'l2_leaf_reg': 0.5162507627633585, 'random_strength': 7.343388106815734, 'bagging_temperature': 0.9943439216632236, 'border_count': 169}. Best is trial 10 with value: 0.7057313943541489.\n",
      "[I 2025-05-16 14:14:07,211] Trial 20 finished with value: 0.6953513513513514 and parameters: {'iterations': 454, 'depth': 7, 'learning_rate': 0.07593048204114272, 'subsample': 0.6066340472112086, 'l2_leaf_reg': 2.52433095736661, 'random_strength': 8.931513470880297, 'bagging_temperature': 0.8702704630921706, 'border_count': 131}. Best is trial 10 with value: 0.7057313943541489.\n",
      "[I 2025-05-16 14:15:36,022] Trial 21 finished with value: 0.6979434447300771 and parameters: {'iterations': 905, 'depth': 6, 'learning_rate': 0.10836975279710077, 'subsample': 0.9723698993076627, 'l2_leaf_reg': 8.686192589844888, 'random_strength': 9.225946542458919, 'bagging_temperature': 0.5979395249229856, 'border_count': 255}. Best is trial 10 with value: 0.7057313943541489.\n",
      "[I 2025-05-16 14:16:42,017] Trial 22 finished with value: 0.6952401464570321 and parameters: {'iterations': 897, 'depth': 5, 'learning_rate': 0.19634618251382002, 'subsample': 0.8015537605949772, 'l2_leaf_reg': 4.066519154407837, 'random_strength': 8.809206962550876, 'bagging_temperature': 0.2701793258029273, 'border_count': 213}. Best is trial 10 with value: 0.7057313943541489.\n",
      "[I 2025-05-16 14:18:16,458] Trial 23 finished with value: 0.7007299270072993 and parameters: {'iterations': 1000, 'depth': 6, 'learning_rate': 0.11195070974093509, 'subsample': 0.9994384422291059, 'l2_leaf_reg': 7.784109264963648, 'random_strength': 7.743004342575945, 'bagging_temperature': 0.8244862210310595, 'border_count': 232}. Best is trial 10 with value: 0.7057313943541489.\n",
      "[I 2025-05-16 14:19:16,269] Trial 24 finished with value: 0.7019210015109001 and parameters: {'iterations': 770, 'depth': 5, 'learning_rate': 0.06356656839630064, 'subsample': 0.9173689009386281, 'l2_leaf_reg': 1.0748846958479459, 'random_strength': 6.503160173270709, 'bagging_temperature': 0.6150082678262047, 'border_count': 236}. Best is trial 10 with value: 0.7057313943541489.\n",
      "[I 2025-05-16 14:20:57,549] Trial 25 finished with value: 0.7008214440121054 and parameters: {'iterations': 891, 'depth': 7, 'learning_rate': 0.04544689043106601, 'subsample': 0.6643100824687265, 'l2_leaf_reg': 2.2009586857970143, 'random_strength': 9.375034398680857, 'bagging_temperature': 0.39133576450289786, 'border_count': 196}. Best is trial 10 with value: 0.7057313943541489.\n",
      "[I 2025-05-16 14:25:07,961] Trial 26 finished with value: 0.7109106529209622 and parameters: {'iterations': 916, 'depth': 9, 'learning_rate': 0.08417417879301282, 'subsample': 0.6300537145115088, 'l2_leaf_reg': 4.917199591062558, 'random_strength': 5.3579819031797005, 'bagging_temperature': 0.03127270504975477, 'border_count': 237}. Best is trial 26 with value: 0.7109106529209622.\n",
      "[I 2025-05-16 14:27:02,447] Trial 27 finished with value: 0.6985230234578628 and parameters: {'iterations': 685, 'depth': 9, 'learning_rate': 0.03197827094856561, 'subsample': 0.6308357964909269, 'l2_leaf_reg': 0.22700188769741483, 'random_strength': 4.042890405184856, 'bagging_temperature': 0.0002763190256521719, 'border_count': 88}. Best is trial 26 with value: 0.7109106529209622.\n",
      "[I 2025-05-16 14:28:38,326] Trial 28 finished with value: 0.6980561555075594 and parameters: {'iterations': 815, 'depth': 8, 'learning_rate': 0.06594802775648892, 'subsample': 0.625135231926084, 'l2_leaf_reg': 4.892654568566593, 'random_strength': 5.525419680151252, 'bagging_temperature': 0.13573590557082726, 'border_count': 221}. Best is trial 26 with value: 0.7109106529209622.\n",
      "[I 2025-05-16 14:30:57,262] Trial 29 finished with value: 0.6873263517845694 and parameters: {'iterations': 865, 'depth': 9, 'learning_rate': 0.19255524682947892, 'subsample': 0.6720910391682141, 'l2_leaf_reg': 0.6755311333142658, 'random_strength': 4.013219148761394, 'bagging_temperature': 0.11585820338347597, 'border_count': 122}. Best is trial 26 with value: 0.7109106529209622.\n",
      "[I 2025-05-16 14:32:40,795] Trial 30 finished with value: 0.6897292651482596 and parameters: {'iterations': 957, 'depth': 8, 'learning_rate': 0.12326225726517555, 'subsample': 0.6945121287223843, 'l2_leaf_reg': 0.24613129214522397, 'random_strength': 3.4357773718357754, 'bagging_temperature': 0.08639112530639448, 'border_count': 152}. Best is trial 26 with value: 0.7109106529209622.\n",
      "[I 2025-05-16 14:33:58,491] Trial 31 finished with value: 0.7076989062835085 and parameters: {'iterations': 930, 'depth': 7, 'learning_rate': 0.09881441493400572, 'subsample': 0.7428190958722577, 'l2_leaf_reg': 4.9398517409953335, 'random_strength': 8.624207100065448, 'bagging_temperature': 0.627854231307924, 'border_count': 251}. Best is trial 26 with value: 0.7109106529209622.\n",
      "[I 2025-05-16 14:35:17,294] Trial 32 finished with value: 0.7059076262083781 and parameters: {'iterations': 939, 'depth': 7, 'learning_rate': 0.08968972332055243, 'subsample': 0.7342441545700439, 'l2_leaf_reg': 4.838084193688875, 'random_strength': 6.963103371547846, 'bagging_temperature': 0.7956575509859832, 'border_count': 240}. Best is trial 26 with value: 0.7109106529209622.\n",
      "[I 2025-05-16 14:36:24,075] Trial 33 finished with value: 0.7019293301539129 and parameters: {'iterations': 775, 'depth': 7, 'learning_rate': 0.07087782390423633, 'subsample': 0.7403110649739976, 'l2_leaf_reg': 1.5149584021524578, 'random_strength': 6.848474223688287, 'bagging_temperature': 0.6687198751003742, 'border_count': 239}. Best is trial 26 with value: 0.7109106529209622.\n",
      "[I 2025-05-16 14:37:48,134] Trial 34 finished with value: 0.7057297297297297 and parameters: {'iterations': 998, 'depth': 7, 'learning_rate': 0.08538717291240734, 'subsample': 0.7431395212039088, 'l2_leaf_reg': 5.003254128611916, 'random_strength': 6.0889789867988995, 'bagging_temperature': 0.8132720334257578, 'border_count': 225}. Best is trial 26 with value: 0.7109106529209622.\n",
      "[I 2025-05-16 14:38:25,795] Trial 35 finished with value: 0.6881720430107527 and parameters: {'iterations': 472, 'depth': 7, 'learning_rate': 0.23764961548239072, 'subsample': 0.7050761356210371, 'l2_leaf_reg': 2.0254200756104748, 'random_strength': 7.54911149671406, 'bagging_temperature': 0.9001674540296729, 'border_count': 192}. Best is trial 26 with value: 0.7109106529209622.\n",
      "[I 2025-05-16 14:39:03,297] Trial 36 finished with value: 0.6984402079722704 and parameters: {'iterations': 667, 'depth': 6, 'learning_rate': 0.05228667189400718, 'subsample': 0.7875841285445176, 'l2_leaf_reg': 0.9257420727238223, 'random_strength': 6.457413938264866, 'bagging_temperature': 0.4219525439922429, 'border_count': 105}. Best is trial 26 with value: 0.7109106529209622.\n",
      "[I 2025-05-16 14:41:19,781] Trial 37 finished with value: 0.6986183074265976 and parameters: {'iterations': 703, 'depth': 9, 'learning_rate': 0.1501653855184594, 'subsample': 0.7165054870861028, 'l2_leaf_reg': 4.694334873340536, 'random_strength': 5.051295604954504, 'bagging_temperature': 0.7857782353504952, 'border_count': 209}. Best is trial 26 with value: 0.7109106529209622.\n",
      "[I 2025-05-16 14:41:45,018] Trial 38 finished with value: 0.6949521322889469 and parameters: {'iterations': 623, 'depth': 4, 'learning_rate': 0.10393027182300421, 'subsample': 0.7554487058310426, 'l2_leaf_reg': 2.748061980676535, 'random_strength': 5.784552820413543, 'bagging_temperature': 0.6454816841629113, 'border_count': 75}. Best is trial 26 with value: 0.7109106529209622.\n",
      "[I 2025-05-16 14:43:38,898] Trial 39 finished with value: 0.6972596781209222 and parameters: {'iterations': 948, 'depth': 8, 'learning_rate': 0.02134613641694703, 'subsample': 0.8089244603644243, 'l2_leaf_reg': 0.11922111016460957, 'random_strength': 8.51509049376757, 'bagging_temperature': 0.5390945963846813, 'border_count': 219}. Best is trial 26 with value: 0.7109106529209622.\n",
      "[I 2025-05-16 14:53:03,401] Trial 40 finished with value: 0.6862870548091278 and parameters: {'iterations': 866, 'depth': 10, 'learning_rate': 0.07909525331866026, 'subsample': 0.6817197003357128, 'l2_leaf_reg': 0.004846172888190691, 'random_strength': 7.8890935165702345, 'bagging_temperature': 0.9168747159424299, 'border_count': 244}. Best is trial 26 with value: 0.7109106529209622.\n",
      "[I 2025-05-16 14:54:27,018] Trial 41 finished with value: 0.6975441619991383 and parameters: {'iterations': 989, 'depth': 7, 'learning_rate': 0.09388122179615324, 'subsample': 0.7383670041803546, 'l2_leaf_reg': 5.40818683103509, 'random_strength': 6.205688089129369, 'bagging_temperature': 0.688831765802319, 'border_count': 227}. Best is trial 26 with value: 0.7109106529209622.\n",
      "[I 2025-05-16 14:55:49,151] Trial 42 finished with value: 0.7019810508182601 and parameters: {'iterations': 940, 'depth': 7, 'learning_rate': 0.07874820952004886, 'subsample': 0.7490131535977143, 'l2_leaf_reg': 5.360338426217565, 'random_strength': 9.923220715238854, 'bagging_temperature': 0.7647340670681525, 'border_count': 241}. Best is trial 26 with value: 0.7109106529209622.\n",
      "[I 2025-05-16 14:56:16,635] Trial 43 finished with value: 0.699613235926085 and parameters: {'iterations': 224, 'depth': 8, 'learning_rate': 0.13026340119833021, 'subsample': 0.7215699210513294, 'l2_leaf_reg': 1.2699852919622219, 'random_strength': 6.962844891112418, 'bagging_temperature': 0.8090512543891488, 'border_count': 199}. Best is trial 26 with value: 0.7109106529209622.\n",
      "[I 2025-05-16 14:57:24,652] Trial 44 finished with value: 0.7045454545454546 and parameters: {'iterations': 802, 'depth': 7, 'learning_rate': 0.0833016704282859, 'subsample': 0.6526374934953284, 'l2_leaf_reg': 0.02048477506503233, 'random_strength': 5.6127525842831405, 'bagging_temperature': 0.9354401550452793, 'border_count': 224}. Best is trial 26 with value: 0.7109106529209622.\n",
      "[I 2025-05-16 14:59:17,136] Trial 45 finished with value: 0.7021276595744681 and parameters: {'iterations': 878, 'depth': 8, 'learning_rate': 0.05463344019549043, 'subsample': 0.8291972646017691, 'l2_leaf_reg': 3.2150492230561993, 'random_strength': 7.180986736082177, 'bagging_temperature': 0.4459503538124836, 'border_count': 246}. Best is trial 26 with value: 0.7109106529209622.\n",
      "[I 2025-05-16 15:01:35,353] Trial 46 finished with value: 0.6977145321259164 and parameters: {'iterations': 973, 'depth': 9, 'learning_rate': 0.08764619169354224, 'subsample': 0.7576231758967781, 'l2_leaf_reg': 1.9023846861467546, 'random_strength': 4.819280407156143, 'bagging_temperature': 0.7160297035345706, 'border_count': 91}. Best is trial 26 with value: 0.7109106529209622.\n",
      "[I 2025-05-16 15:02:26,452] Trial 47 finished with value: 0.6999136442141624 and parameters: {'iterations': 921, 'depth': 6, 'learning_rate': 0.1142302838189508, 'subsample': 0.6174409911148527, 'l2_leaf_reg': 6.187872317881202, 'random_strength': 6.150486742239824, 'bagging_temperature': 0.1892898941916541, 'border_count': 139}. Best is trial 26 with value: 0.7109106529209622.\n",
      "[I 2025-05-16 15:02:54,449] Trial 48 finished with value: 0.6820658095445631 and parameters: {'iterations': 524, 'depth': 5, 'learning_rate': 0.01501677095177734, 'subsample': 0.7852349801477434, 'l2_leaf_reg': 3.1933090085010303, 'random_strength': 1.2226961715813687, 'bagging_temperature': 0.547254320756254, 'border_count': 181}. Best is trial 26 with value: 0.7109106529209622.\n",
      "[I 2025-05-16 15:03:16,768] Trial 49 finished with value: 0.6989293361884368 and parameters: {'iterations': 371, 'depth': 7, 'learning_rate': 0.16340537428042892, 'subsample': 0.6845317096010667, 'l2_leaf_reg': 6.189657154406855, 'random_strength': 8.118971662964746, 'bagging_temperature': 0.7629323525504538, 'border_count': 47}. Best is trial 26 with value: 0.7109106529209622.\n"
     ]
    }
   ],
   "source": [
    "def objective(trial):\n",
    "    params = {\n",
    "        \"iterations\": trial.suggest_int(\"iterations\", 100, 1000),\n",
    "        \"depth\": trial.suggest_int(\"depth\", 4, 10),\n",
    "        \"learning_rate\": trial.suggest_float(\"learning_rate\", 0.01, 0.3, log=True),\n",
    "        \"subsample\": trial.suggest_float(\"subsample\", 0.6, 1.0, log=True),\n",
    "        \"l2_leaf_reg\": trial.suggest_float(\"l2_leaf_reg\", 1e-3, 10, log=True),\n",
    "        \"random_strength\": trial.suggest_float(\"random_strength\", 0.0, 10.0),\n",
    "        \"bagging_temperature\": trial.suggest_float(\"bagging_temperature\", 0.0, 1.0),\n",
    "        \"border_count\": trial.suggest_int(\"border_count\", 32, 255),\n",
    "        \"verbose\": 0,\n",
    "    }\n",
    "    model = CatBoostClassifier(**params)\n",
    "    model.fit(X_train, y_train)\n",
    "    y_pred = model.predict(X_val)\n",
    "    return f1_score(y_pred, y_val)\n",
    "\n",
    "\n",
    "# Запускаем оптимизацию\n",
    "study = optuna.create_study(direction=\"maximize\")\n",
    "study.optimize(objective, n_trials=50)"
   ]
  },
  {
   "cell_type": "code",
   "execution_count": 8,
   "id": "cf1e135b",
   "metadata": {},
   "outputs": [],
   "source": [
    "params = {'iterations': 916,\n",
    " 'depth': 9,\n",
    " 'learning_rate': 0.08417417879301282,\n",
    " 'subsample': 0.6300537145115088,\n",
    " 'l2_leaf_reg': 4.917199591062558,\n",
    " 'random_strength': 5.3579819031797005,\n",
    " 'bagging_temperature': 0.03127270504975477,\n",
    " 'border_count': 237}"
   ]
  },
  {
   "cell_type": "markdown",
   "id": "99f3657d",
   "metadata": {},
   "source": [
    "Оценка качества на валидационной выборке:"
   ]
  },
  {
   "cell_type": "code",
   "execution_count": 15,
   "id": "9931bff4",
   "metadata": {},
   "outputs": [
    {
     "name": "stdout",
     "output_type": "stream",
     "text": [
      "Accuracy: 0.7113294314381271\n",
      "F1 score: 0.6980100590422043\n",
      "Roc auc: 0.7835198841848017\n"
     ]
    }
   ],
   "source": [
    "cat_clf = CatBoostClassifier(**params, random_state=42, verbose=0)\n",
    "cat_clf.fit(X_train, y_train)\n",
    "cat_preds = cat_clf.predict_proba(X_val)[:, 1]\n",
    "print(f'Accuracy: {accuracy_score(cat_preds.round(), y_val)}')\n",
    "print(f'F1 score: {f1_score(cat_preds.round(), y_val)}')\n",
    "print(f'Roc auc: {roc_auc_score(y_val, cat_preds)}')"
   ]
  },
  {
   "cell_type": "markdown",
   "id": "6d9f4354",
   "metadata": {},
   "source": [
    "Оценка качества на тестовой:"
   ]
  },
  {
   "cell_type": "code",
   "execution_count": 12,
   "id": "bb2c2c58",
   "metadata": {},
   "outputs": [
    {
     "name": "stdout",
     "output_type": "stream",
     "text": [
      "Accuracy: 0.7125658389766741\n",
      "F1 score: 0.7118068653338363\n",
      "Roc auc: 0.7951718568879511\n"
     ]
    }
   ],
   "source": [
    "cat_clf = CatBoostClassifier(**params, random_state=42, verbose=0)\n",
    "cat_clf.fit(X, y)\n",
    "cat_preds = cat_clf.predict_proba(X_test)[:, 1]\n",
    "print(f'Accuracy: {accuracy_score(cat_preds.round(), y_test)}')\n",
    "print(f'F1 score: {f1_score(cat_preds.round(), y_test)}')\n",
    "print(f'Roc auc: {roc_auc_score(y_test, cat_preds)}')"
   ]
  },
  {
   "cell_type": "code",
   "execution_count": null,
   "id": "ed393c0e",
   "metadata": {},
   "outputs": [],
   "source": []
  }
 ],
 "metadata": {
  "kernelspec": {
   "display_name": "Python 3",
   "language": "python",
   "name": "python3"
  },
  "language_info": {
   "codemirror_mode": {
    "name": "ipython",
    "version": 3
   },
   "file_extension": ".py",
   "mimetype": "text/x-python",
   "name": "python",
   "nbconvert_exporter": "python",
   "pygments_lexer": "ipython3",
   "version": "3.12.10"
  }
 },
 "nbformat": 4,
 "nbformat_minor": 5
}
